{
 "cells": [
  {
   "cell_type": "code",
   "execution_count": 1,
   "id": "165f3c10",
   "metadata": {},
   "outputs": [
    {
     "name": "stdout",
     "output_type": "stream",
     "text": [
      "Index(['55 Water St Ny Ny', '255 Greenwich Street',\n",
      "       '30-30 Thomson Avenue, LIC, NY 11101', '100 Gold Street',\n",
      "       '4 World Trade Center', '2 Lafayette St., N.Y.',\n",
      "       '55 Water Street, NY, NY', '30-30 Thomson Ave L I City Qns',\n",
      "       '96-05 Horace Harding Expway', '33 Beaver St, New York Ny'],\n",
      "      dtype='object')\n"
     ]
    }
   ],
   "source": [
    "import pandas as pd\n",
    "from geopy.geocoders import Nominatim\n",
    "from folium.plugins import TimestampedGeoJson\n",
    "import folium\n",
    "\n",
    "# 读取NYC工作数据\n",
    "data = pd.read_csv('NYCjobs.csv')\n",
    "\n",
    "# 提取工作地点并去除空值\n",
    "addresses = data['Work Location 1'].dropna()\n",
    "\n",
    "# 统计每个地址的出现次数，并取出现次数最多的前100个\n",
    "top_100_addresses = addresses.value_counts().head(100).index\n",
    "\n",
    "# 打印前10个地址以进行检查\n",
    "print(top_100_addresses[:10])\n",
    "\n"
   ]
  },
  {
   "cell_type": "code",
   "execution_count": 2,
   "id": "a9aecadd",
   "metadata": {},
   "outputs": [],
   "source": [
    "# 提取发布日期、工资和工作地点信息\n",
    "time_salary_location_data = data[['Posting Date', 'Work Location 1', 'Salary Range From', 'Salary Range To']].dropna()\n",
    "\n",
    "# 计算平均工资作为工资的代表\n",
    "time_salary_location_data['Average Salary'] = (time_salary_location_data['Salary Range From'] + time_salary_location_data['Salary Range To']) / 2\n",
    "\n",
    "# 转换发布日期为日期格式\n",
    "time_salary_location_data['Posting Date'] = pd.to_datetime(time_salary_location_data['Posting Date'])\n",
    "\n",
    "# 只保留前100个重复出现次数最多的非空工作地点\n",
    "time_salary_location_data = time_salary_location_data[time_salary_location_data['Work Location 1'].isin(top_100_addresses)]\n",
    "\n",
    "# 创建地理编码器\n",
    "geolocator = Nominatim(user_agent=\"geoapiExercises\", timeout=10)\n",
    "\n",
    "# 创建地图对象\n",
    "time_space_map = folium.Map(location=[40.7128, -74.0060], zoom_start=11)\n",
    "\n",
    "# 颜色映射函数：根据平均工资返回颜色\n",
    "def get_color(average_salary):\n",
    "    if average_salary < 50000:\n",
    "        return \"green\"\n",
    "    elif 50000 <= average_salary < 80000:\n",
    "        return \"yellow\"\n",
    "    else:\n",
    "        return \"red\"\n",
    "\n",
    "# 大小映射函数：根据平均工资返回大小\n",
    "def get_size(average_salary):\n",
    "    if average_salary < 50000:\n",
    "        return 5\n",
    "    elif 50000 <= average_salary < 80000:\n",
    "        return 10\n",
    "    else:\n",
    "        return 15\n",
    "\n"
   ]
  },
  {
   "cell_type": "code",
   "execution_count": 3,
   "id": "c77ae055",
   "metadata": {},
   "outputs": [],
   "source": [
    "# 准备时间-空间数据\n",
    "time_space_data = []\n",
    "for index, row in time_salary_location_data.iterrows():\n",
    "    address = row['Work Location 1']\n",
    "    location = geolocator.geocode(address)  # 获取经纬度\n",
    "    if location:\n",
    "        average_salary = row['Average Salary']\n",
    "        color = get_color(average_salary)\n",
    "        size = get_size(average_salary)\n",
    "        \n",
    "        feature = {\n",
    "            \"type\": \"Feature\",\n",
    "            \"geometry\": {\n",
    "                \"type\": \"Point\",\n",
    "                \"coordinates\": [location.longitude, location.latitude]\n",
    "            },\n",
    "            \"properties\": {\n",
    "                \"time\": row['Posting Date'].strftime(\"%Y-%m-%d\"),\n",
    "                \"style\": {\"color\": color, \"radius\": size},\n",
    "                \"icon\": \"circle\",\n",
    "                \"popup\": f\"Salary: {average_salary}\"\n",
    "            }\n",
    "        }\n",
    "        \n",
    "        time_space_data.append(feature)\n",
    "\n",
    "        \n",
    "# 添加时间戳地理JSON图层\n",
    "TimestampedGeoJson(\n",
    "    {\"type\": \"FeatureCollection\", \"features\": time_space_data},\n",
    "    period=\"P1D\",\n",
    "    add_last_point=True\n",
    ").add_to(time_space_map)\n",
    "\n",
    "# 保存或显示地图\n",
    "time_space_map.save('time_space_map22.html') # 保存为HTML文件"
   ]
  },
  {
   "cell_type": "code",
   "execution_count": null,
   "id": "b80bca12",
   "metadata": {},
   "outputs": [],
   "source": []
  }
 ],
 "metadata": {
  "kernelspec": {
   "display_name": "Python 3 (ipykernel)",
   "language": "python",
   "name": "python3"
  },
  "language_info": {
   "codemirror_mode": {
    "name": "ipython",
    "version": 3
   },
   "file_extension": ".py",
   "mimetype": "text/x-python",
   "name": "python",
   "nbconvert_exporter": "python",
   "pygments_lexer": "ipython3",
   "version": "3.9.13"
  }
 },
 "nbformat": 4,
 "nbformat_minor": 5
}
